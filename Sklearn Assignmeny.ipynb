{
 "cells": [
  {
   "cell_type": "code",
   "execution_count": 18,
   "id": "8c31e81e",
   "metadata": {},
   "outputs": [
    {
     "name": "stdout",
     "output_type": "stream",
     "text": [
      "Accuracy: 0.7875\n",
      "Classification Report:\n",
      "              precision    recall  f1-score   support\n",
      "\n",
      "           0       0.78      0.94      0.85        53\n",
      "           1       0.81      0.48      0.60        27\n",
      "\n",
      "    accuracy                           0.79        80\n",
      "   macro avg       0.80      0.71      0.73        80\n",
      "weighted avg       0.79      0.79      0.77        80\n",
      "\n",
      "Confusion Matrix:\n",
      "[[50  3]\n",
      " [14 13]]\n"
     ]
    }
   ],
   "source": [
    "import pandas as pd\n",
    "from sklearn.model_selection import train_test_split\n",
    "from sklearn.neighbors import KNeighborsClassifier\n",
    "\n",
    "# Load the dataset\n",
    "data = pd.read_csv('water_potability.csv')\n",
    "\n",
    "# Impute missing values\n",
    "# Mean imputation for numerical columns\n",
    "numerical_cols = data.select_dtypes(include=['number']).columns\n",
    "data[numerical_cols] = data[numerical_cols].fillna(data[numerical_cols].mean())\n",
    "\n",
    "# Separate features and target variable\n",
    "X = data.drop('Potability', axis=1)  # Features\n",
    "y = data['Potability']  # Target variable\n",
    "\n",
    "# Split the data into training and testing sets\n",
    "X_train, X_test, y_train, y_test = train_test_split(X, y, test_size=0.2, random_state=42)\n",
    "\n",
    "knn_model = KNeighborsClassifier(n_neighbors=5)\n",
    "knn_model.fit(X_train, y_train)\n",
    "knn_accuracy = knn_model.score(X_test, y_test)\n",
    "\n",
    "from sklearn.metrics import accuracy_score, classification_report, confusion_matrix\n",
    "\n",
    "# Evaluate the model\n",
    "accuracy = accuracy_score(y_test, predictions)\n",
    "print(f'Accuracy: {accuracy}')\n",
    "\n",
    "report = classification_report(y_test, predictions)\n",
    "print(f'Classification Report:\\n{report}')\n",
    "\n",
    "confusion_mat = confusion_matrix(y_test, predictions)\n",
    "print(f'Confusion Matrix:\\n{confusion_mat}')\n",
    "\n"
   ]
  },
  {
   "cell_type": "code",
   "execution_count": 13,
   "id": "c6228100",
   "metadata": {},
   "outputs": [
    {
     "name": "stdout",
     "output_type": "stream",
     "text": [
      "Accuracy: 0.7875\n",
      "Classification Report:\n",
      "              precision    recall  f1-score   support\n",
      "\n",
      "           0       0.78      0.94      0.85        53\n",
      "           1       0.81      0.48      0.60        27\n",
      "\n",
      "    accuracy                           0.79        80\n",
      "   macro avg       0.80      0.71      0.73        80\n",
      "weighted avg       0.79      0.79      0.77        80\n",
      "\n",
      "Confusion Matrix:\n",
      "[[50  3]\n",
      " [14 13]]\n"
     ]
    }
   ],
   "source": [
    "import pandas as pd\n",
    "from sklearn.model_selection import train_test_split\n",
    "from sklearn.ensemble import RandomForestClassifier\n",
    "\n",
    "# Load the dataset\n",
    "data = pd.read_csv('water_potability.csv')\n",
    "\n",
    "# Impute missing values\n",
    "# Mean imputation for numerical columns\n",
    "numerical_cols = data.select_dtypes(include=['number']).columns\n",
    "data[numerical_cols] = data[numerical_cols].fillna(data[numerical_cols].mean())\n",
    "\n",
    "\n",
    "# Separate features and target variable\n",
    "X = data.drop('Potability', axis=1)  # Features\n",
    "y = data['Potability']  # Target variable\n",
    "\n",
    "# Split the data into training and testing sets\n",
    "X_train, X_test, y_train, y_test = train_test_split(X, y, test_size=0.2, random_state=42)\n",
    "\n",
    "# Create and train a Random Forest classifier\n",
    "rf_classifier = RandomForestClassifier(n_estimators=100, random_state=42)\n",
    "rf_classifier.fit(X_train, y_train)\n",
    "\n",
    "# Make predictions on the test set\n",
    "predictions = rf_classifier.predict(X_test)\n",
    "\n",
    "from sklearn.metrics import accuracy_score, classification_report, confusion_matrix\n",
    "\n",
    "# Evaluate the model\n",
    "accuracy = accuracy_score(y_test, predictions)\n",
    "print(f'Accuracy: {accuracy}')\n",
    "\n",
    "report = classification_report(y_test, predictions)\n",
    "print(f'Classification Report:\\n{report}')\n",
    "\n",
    "confusion_mat = confusion_matrix(y_test, predictions)\n",
    "print(f'Confusion Matrix:\\n{confusion_mat}')\n",
    "\n"
   ]
  },
  {
   "cell_type": "code",
   "execution_count": 16,
   "id": "f6c22b32",
   "metadata": {},
   "outputs": [
    {
     "name": "stdout",
     "output_type": "stream",
     "text": [
      "Accuracy: 0.65\n",
      "Classification Report:\n",
      "              precision    recall  f1-score   support\n",
      "\n",
      "           0       0.70      0.83      0.76        53\n",
      "           1       0.47      0.30      0.36        27\n",
      "\n",
      "    accuracy                           0.65        80\n",
      "   macro avg       0.58      0.56      0.56        80\n",
      "weighted avg       0.62      0.65      0.63        80\n",
      "\n",
      "Confusion Matrix:\n",
      "[[44  9]\n",
      " [19  8]]\n"
     ]
    }
   ],
   "source": [
    "import pandas as pd\n",
    "from sklearn.model_selection import train_test_split\n",
    "from sklearn.naive_bayes import GaussianNB  # Import Gaussian Naive Bayes\n",
    "from sklearn.metrics import accuracy_score, classification_report, confusion_matrix\n",
    "\n",
    "# Load the dataset\n",
    "data = pd.read_csv('water_potability.csv')\n",
    "\n",
    "# Impute missing values\n",
    "# Mean imputation for numerical columns\n",
    "numerical_cols = data.select_dtypes(include=['number']).columns\n",
    "data[numerical_cols] = data[numerical_cols].fillna(data[numerical_cols].mean())\n",
    "\n",
    "# Separate features and target variable\n",
    "X = data.drop('Potability', axis=1)  # Features\n",
    "y = data['Potability']  # Target variable\n",
    "\n",
    "# Split the data into training and testing sets\n",
    "X_train, X_test, y_train, y_test = train_test_split(X, y, test_size=0.2, random_state=42)\n",
    "\n",
    "# Create and train a Naive Bayes classifier (Gaussian Naive Bayes)\n",
    "nb_classifier = GaussianNB()\n",
    "nb_classifier.fit(X_train, y_train)\n",
    "\n",
    "# Make predictions on the test set\n",
    "predictions = nb_classifier.predict(X_test)\n",
    "\n",
    "# Evaluate the model\n",
    "accuracy = accuracy_score(y_test, predictions)\n",
    "print(f'Accuracy: {accuracy}')\n",
    "\n",
    "report = classification_report(y_test, predictions)\n",
    "print(f'Classification Report:\\n{report}')\n",
    "\n",
    "confusion_mat = confusion_matrix(y_test, predictions)\n",
    "print(f'Confusion Matrix:\\n{confusion_mat}')\n"
   ]
  },
  {
   "cell_type": "code",
   "execution_count": 10,
   "id": "edad8e3e",
   "metadata": {},
   "outputs": [
    {
     "name": "stdout",
     "output_type": "stream",
     "text": [
      "Missing Values:\n",
      " ph                 60\n",
      "Hardness            0\n",
      "Solids              0\n",
      "Chloramines         0\n",
      "Sulfate            99\n",
      "Conductivity        0\n",
      "Organic_carbon      0\n",
      "Trihalomethanes    18\n",
      "Turbidity           0\n",
      "dtype: int64\n",
      "Missing Values After Imputation:\n",
      " ph                 0\n",
      "Hardness           0\n",
      "Solids             0\n",
      "Chloramines        0\n",
      "Sulfate            0\n",
      "Conductivity       0\n",
      "Organic_carbon     0\n",
      "Trihalomethanes    0\n",
      "Turbidity          0\n",
      "dtype: int64\n"
     ]
    }
   ],
   "source": [
    "import pandas as pd\n",
    "import numpy as np\n",
    "from sklearn.model_selection import train_test_split\n",
    "from sklearn.preprocessing import StandardScaler, LabelEncoder\n",
    "from sklearn.svm import SVC\n",
    "from sklearn.ensemble import RandomForestClassifier\n",
    "from sklearn.naive_bayes import GaussianNB\n",
    "from sklearn.metrics import accuracy_score, classification_report\n",
    "# Load your custom dataset (replace 'water_potability.csv' with your dataset file)\n",
    "df = pd.read_csv('water_potability.csv')\n",
    "\n",
    "# Separate features and target variable\n",
    "X = df.drop('Potability', axis=1)\n",
    "y = df['Potability']\n",
    "\n",
    "# Encode the target variable if it's categorical (e.g., 'good', 'fair', 'poor')\n",
    "le = LabelEncoder()\n",
    "y = le.fit_transform(y)\n",
    "\n",
    "# Check for missing values in X\n",
    "missing_values = X.isnull().sum()\n",
    "print(\"Missing Values:\\n\", missing_values)\n",
    "\n",
    "# Impute missing values for numerical columns using mean imputation\n",
    "numerical_cols = X.select_dtypes(include=['number']).columns\n",
    "for col in numerical_cols:\n",
    "    X[col].fillna(X[col].mean(), inplace=True)\n",
    "\n",
    "# Check again for missing values\n",
    "missing_values_after_imputation = X.isnull().sum()\n",
    "print(\"Missing Values After Imputation:\\n\", missing_values_after_imputation)\n",
    "\n",
    "# Split the dataset into training and testing sets\n",
    "X_train, X_test, y_train, y_test = train_test_split(X, y, test_size=0.2, random_state=42)\n",
    "\n",
    "# Standardize/Scale the features\n",
    "scaler = StandardScaler()\n",
    "X_train = scaler.fit_transform(X_train)\n",
    "X_test = scaler.transform(X_test)\n"
   ]
  },
  {
   "cell_type": "code",
   "execution_count": 15,
   "id": "e1b16e09",
   "metadata": {},
   "outputs": [
    {
     "name": "stdout",
     "output_type": "stream",
     "text": [
      "SVM Accuracy: 0.7125\n",
      "              precision    recall  f1-score   support\n",
      "\n",
      "           0       0.70      1.00      0.82        53\n",
      "           1       1.00      0.15      0.26        27\n",
      "\n",
      "    accuracy                           0.71        80\n",
      "   macro avg       0.85      0.57      0.54        80\n",
      "weighted avg       0.80      0.71      0.63        80\n",
      "\n"
     ]
    }
   ],
   "source": [
    "svm_classifier = SVC(kernel='linear', C=1)  # You can change the kernel and hyperparameters\n",
    "svm_classifier.fit(X_train, y_train)\n",
    "svm_predictions = svm_classifier.predict(X_test)\n",
    "svm_accuracy = accuracy_score(y_test, svm_predictions)\n",
    "print(\"SVM Accuracy:\", svm_accuracy)\n",
    "print(classification_report(y_test, svm_predictions))\n"
   ]
  },
  {
   "cell_type": "code",
   "execution_count": 12,
   "id": "4d26dbc4",
   "metadata": {},
   "outputs": [
    {
     "name": "stdout",
     "output_type": "stream",
     "text": [
      "Naive Bayes Accuracy: 0.65\n",
      "              precision    recall  f1-score   support\n",
      "\n",
      "           0       0.70      0.83      0.76        53\n",
      "           1       0.47      0.30      0.36        27\n",
      "\n",
      "    accuracy                           0.65        80\n",
      "   macro avg       0.58      0.56      0.56        80\n",
      "weighted avg       0.62      0.65      0.63        80\n",
      "\n"
     ]
    }
   ],
   "source": [
    "nb_classifier = GaussianNB()\n",
    "nb_classifier.fit(X_train, y_train)\n",
    "nb_predictions = nb_classifier.predict(X_test)\n",
    "nb_accuracy = accuracy_score(y_test, nb_predictions)\n",
    "print(\"Naive Bayes Accuracy:\", nb_accuracy)\n",
    "print(classification_report(y_test, nb_predictions))\n"
   ]
  },
  {
   "cell_type": "code",
   "execution_count": 13,
   "id": "86d82408",
   "metadata": {},
   "outputs": [
    {
     "name": "stdout",
     "output_type": "stream",
     "text": [
      "Random Forest Accuracy: 0.7875\n",
      "              precision    recall  f1-score   support\n",
      "\n",
      "           0       0.78      0.94      0.85        53\n",
      "           1       0.81      0.48      0.60        27\n",
      "\n",
      "    accuracy                           0.79        80\n",
      "   macro avg       0.80      0.71      0.73        80\n",
      "weighted avg       0.79      0.79      0.77        80\n",
      "\n"
     ]
    }
   ],
   "source": [
    "rf_classifier = RandomForestClassifier(n_estimators=100, random_state=42)  # You can adjust hyperparameters\n",
    "rf_classifier.fit(X_train, y_train)\n",
    "rf_predictions = rf_classifier.predict(X_test)\n",
    "rf_accuracy = accuracy_score(y_test, rf_predictions)\n",
    "print(\"Random Forest Accuracy:\", rf_accuracy)\n",
    "print(classification_report(y_test, rf_predictions))\n"
   ]
  },
  {
   "cell_type": "code",
   "execution_count": null,
   "id": "441bc7db",
   "metadata": {},
   "outputs": [],
   "source": []
  },
  {
   "cell_type": "code",
   "execution_count": null,
   "id": "5a3b706f",
   "metadata": {},
   "outputs": [],
   "source": []
  }
 ],
 "metadata": {
  "kernelspec": {
   "display_name": "Python 3 (ipykernel)",
   "language": "python",
   "name": "python3"
  },
  "language_info": {
   "codemirror_mode": {
    "name": "ipython",
    "version": 3
   },
   "file_extension": ".py",
   "mimetype": "text/x-python",
   "name": "python",
   "nbconvert_exporter": "python",
   "pygments_lexer": "ipython3",
   "version": "3.10.9"
  }
 },
 "nbformat": 4,
 "nbformat_minor": 5
}
